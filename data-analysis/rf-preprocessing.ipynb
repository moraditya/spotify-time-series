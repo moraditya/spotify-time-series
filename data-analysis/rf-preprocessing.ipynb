{
 "cells": [
  {
   "cell_type": "markdown",
   "id": "2debf2dd",
   "metadata": {},
   "source": [
    "### Use a Random Forests Classifier to determine the Top 5 features for classifying popularity"
   ]
  },
  {
   "cell_type": "code",
   "execution_count": 1,
   "id": "ec92cfa4",
   "metadata": {},
   "outputs": [],
   "source": [
    "# import relevant libraries\n",
    "\n",
    "import pandas as pd\n",
    "import numpy as np\n",
    "import matplotlib.pyplot as plt\n",
    "import seaborn as sns\n",
    "from sklearn.model_selection import train_test_split\n",
    "from sklearn.preprocessing import StandardScaler, LabelEncoder\n",
    "from sklearn.model_selection import train_test_split\n",
    "from sklearn.ensemble import RandomForestClassifier\n",
    "from sklearn.model_selection import GridSearchCV\n",
    "from imblearn.over_sampling import SMOTE"
   ]
  },
  {
   "cell_type": "code",
   "execution_count": 2,
   "id": "a70af587",
   "metadata": {},
   "outputs": [],
   "source": [
    "# import dataframe from spotify-EDA file\n",
    "\n",
    "streams_df = pd.read_csv(r'/Users/adityamxr/Desktop/spotify-time-series/data-analysis/streams_df_preprocessing.csv')"
   ]
  },
  {
   "cell_type": "code",
   "execution_count": 3,
   "id": "266e706e",
   "metadata": {},
   "outputs": [
    {
     "data": {
      "text/html": [
       "<div>\n",
       "<style scoped>\n",
       "    .dataframe tbody tr th:only-of-type {\n",
       "        vertical-align: middle;\n",
       "    }\n",
       "\n",
       "    .dataframe tbody tr th {\n",
       "        vertical-align: top;\n",
       "    }\n",
       "\n",
       "    .dataframe thead th {\n",
       "        text-align: right;\n",
       "    }\n",
       "</style>\n",
       "<table border=\"1\" class=\"dataframe\">\n",
       "  <thead>\n",
       "    <tr style=\"text-align: right;\">\n",
       "      <th></th>\n",
       "      <th>acousticness</th>\n",
       "      <th>danceability</th>\n",
       "      <th>duration_ms</th>\n",
       "      <th>energy</th>\n",
       "      <th>explicit</th>\n",
       "      <th>instrumentalness</th>\n",
       "      <th>liveness</th>\n",
       "      <th>loudness</th>\n",
       "      <th>mode</th>\n",
       "      <th>popularity</th>\n",
       "      <th>speechiness</th>\n",
       "      <th>tempo</th>\n",
       "      <th>valence</th>\n",
       "      <th>year</th>\n",
       "      <th>cleaned_broad_genre</th>\n",
       "    </tr>\n",
       "  </thead>\n",
       "  <tbody>\n",
       "    <tr>\n",
       "      <th>0</th>\n",
       "      <td>0.995</td>\n",
       "      <td>0.708</td>\n",
       "      <td>158648</td>\n",
       "      <td>0.1950</td>\n",
       "      <td>0</td>\n",
       "      <td>0.563</td>\n",
       "      <td>0.1510</td>\n",
       "      <td>-12.428</td>\n",
       "      <td>1</td>\n",
       "      <td>0</td>\n",
       "      <td>0.0506</td>\n",
       "      <td>118.469</td>\n",
       "      <td>0.7790</td>\n",
       "      <td>1928</td>\n",
       "      <td>unknown</td>\n",
       "    </tr>\n",
       "    <tr>\n",
       "      <th>1</th>\n",
       "      <td>0.994</td>\n",
       "      <td>0.379</td>\n",
       "      <td>282133</td>\n",
       "      <td>0.0135</td>\n",
       "      <td>0</td>\n",
       "      <td>0.901</td>\n",
       "      <td>0.0763</td>\n",
       "      <td>-28.454</td>\n",
       "      <td>1</td>\n",
       "      <td>0</td>\n",
       "      <td>0.0462</td>\n",
       "      <td>83.972</td>\n",
       "      <td>0.0767</td>\n",
       "      <td>1928</td>\n",
       "      <td>early music</td>\n",
       "    </tr>\n",
       "    <tr>\n",
       "      <th>2</th>\n",
       "      <td>0.604</td>\n",
       "      <td>0.749</td>\n",
       "      <td>104300</td>\n",
       "      <td>0.2200</td>\n",
       "      <td>0</td>\n",
       "      <td>0.000</td>\n",
       "      <td>0.1190</td>\n",
       "      <td>-19.924</td>\n",
       "      <td>0</td>\n",
       "      <td>0</td>\n",
       "      <td>0.9290</td>\n",
       "      <td>107.177</td>\n",
       "      <td>0.8800</td>\n",
       "      <td>1928</td>\n",
       "      <td>epicore</td>\n",
       "    </tr>\n",
       "    <tr>\n",
       "      <th>3</th>\n",
       "      <td>0.995</td>\n",
       "      <td>0.781</td>\n",
       "      <td>180760</td>\n",
       "      <td>0.1300</td>\n",
       "      <td>0</td>\n",
       "      <td>0.887</td>\n",
       "      <td>0.1110</td>\n",
       "      <td>-14.734</td>\n",
       "      <td>0</td>\n",
       "      <td>0</td>\n",
       "      <td>0.0926</td>\n",
       "      <td>108.003</td>\n",
       "      <td>0.7200</td>\n",
       "      <td>1928</td>\n",
       "      <td>tango</td>\n",
       "    </tr>\n",
       "    <tr>\n",
       "      <th>4</th>\n",
       "      <td>0.990</td>\n",
       "      <td>0.210</td>\n",
       "      <td>687733</td>\n",
       "      <td>0.2040</td>\n",
       "      <td>0</td>\n",
       "      <td>0.908</td>\n",
       "      <td>0.0980</td>\n",
       "      <td>-16.829</td>\n",
       "      <td>1</td>\n",
       "      <td>1</td>\n",
       "      <td>0.0424</td>\n",
       "      <td>62.149</td>\n",
       "      <td>0.0693</td>\n",
       "      <td>1928</td>\n",
       "      <td>classical</td>\n",
       "    </tr>\n",
       "  </tbody>\n",
       "</table>\n",
       "</div>"
      ],
      "text/plain": [
       "   acousticness  danceability  duration_ms  energy  explicit  \\\n",
       "0         0.995         0.708       158648  0.1950         0   \n",
       "1         0.994         0.379       282133  0.0135         0   \n",
       "2         0.604         0.749       104300  0.2200         0   \n",
       "3         0.995         0.781       180760  0.1300         0   \n",
       "4         0.990         0.210       687733  0.2040         0   \n",
       "\n",
       "   instrumentalness  liveness  loudness  mode  popularity  speechiness  \\\n",
       "0             0.563    0.1510   -12.428     1           0       0.0506   \n",
       "1             0.901    0.0763   -28.454     1           0       0.0462   \n",
       "2             0.000    0.1190   -19.924     0           0       0.9290   \n",
       "3             0.887    0.1110   -14.734     0           0       0.0926   \n",
       "4             0.908    0.0980   -16.829     1           1       0.0424   \n",
       "\n",
       "     tempo  valence  year cleaned_broad_genre  \n",
       "0  118.469   0.7790  1928             unknown  \n",
       "1   83.972   0.0767  1928         early music  \n",
       "2  107.177   0.8800  1928             epicore  \n",
       "3  108.003   0.7200  1928               tango  \n",
       "4   62.149   0.0693  1928           classical  "
      ]
     },
     "execution_count": 3,
     "metadata": {},
     "output_type": "execute_result"
    }
   ],
   "source": [
    "# verify import\n",
    "streams_df.head()"
   ]
  },
  {
   "cell_type": "code",
   "execution_count": 4,
   "id": "f98b6fee",
   "metadata": {},
   "outputs": [
    {
     "data": {
      "text/plain": [
       "0    500\n",
       "1    138\n",
       "2    149\n",
       "3    477\n",
       "4     96\n",
       "Name: labelenc_genre, dtype: int64"
      ]
     },
     "execution_count": 4,
     "metadata": {},
     "output_type": "execute_result"
    }
   ],
   "source": [
    "# before encoding the cleaned_broad_genre feature, create copy of dataframe\n",
    "\n",
    "encoded_df = streams_df.copy()\n",
    "\n",
    "# initalize LabelEncoder()\n",
    "label_enc = LabelEncoder()\n",
    "encoded_df['labelenc_genre'] = label_enc.fit_transform(encoded_df['cleaned_broad_genre'])\n",
    "\n",
    "# verify encoded genre\n",
    "encoded_df['labelenc_genre'].head(5)"
   ]
  },
  {
   "cell_type": "code",
   "execution_count": 5,
   "id": "90d88b58",
   "metadata": {},
   "outputs": [],
   "source": [
    "# save encoded dataframe\n",
    "encoded_df.to_csv('label_encoded_streams_df.csv', index =False)"
   ]
  },
  {
   "cell_type": "code",
   "execution_count": 10,
   "id": "636c6cb2",
   "metadata": {},
   "outputs": [
    {
     "name": "stdout",
     "output_type": "stream",
     "text": [
      "Number of missing values in encoded dataframe: \n",
      " acousticness           0\n",
      "danceability           0\n",
      "duration_ms            0\n",
      "energy                 0\n",
      "explicit               0\n",
      "instrumentalness       0\n",
      "liveness               0\n",
      "loudness               0\n",
      "mode                   0\n",
      "popularity             0\n",
      "speechiness            0\n",
      "tempo                  0\n",
      "valence                0\n",
      "year                   0\n",
      "cleaned_broad_genre    0\n",
      "labelenc_genre         0\n",
      "dtype: int64\n"
     ]
    }
   ],
   "source": [
    "# check for missing values in encoded_df\n",
    "print('Number of missing values in encoded dataframe: \\n', encoded_df.isnull().sum())"
   ]
  },
  {
   "cell_type": "code",
   "execution_count": 11,
   "id": "34cf6883",
   "metadata": {},
   "outputs": [
    {
     "name": "stdout",
     "output_type": "stream",
     "text": [
      "count    169909.000000\n",
      "mean         31.556610\n",
      "std          21.582614\n",
      "min           0.000000\n",
      "25%          12.000000\n",
      "50%          33.000000\n",
      "75%          48.000000\n",
      "max         100.000000\n",
      "Name: popularity, dtype: float64\n"
     ]
    }
   ],
   "source": [
    "# summary statistics for the popularity column to ascertain bin size\n",
    "print(encoded_df['popularity'].describe())"
   ]
  },
  {
   "cell_type": "code",
   "execution_count": 12,
   "id": "b568008a",
   "metadata": {},
   "outputs": [
    {
     "data": {
      "image/png": "[encoded data removed]",
      "text/plain": [
       "<Figure size 1000x600 with 1 Axes>"
      ]
     },
     "metadata": {},
     "output_type": "display_data"
    }
   ],
   "source": [
    "# plot the distribution of popularity to ascertain bin size\n",
    "plt.figure(figsize=(10, 6))\n",
    "sns.histplot(encoded_df['popularity'], bins=30, kde=True, color='blue')\n",
    "plt.title('Distribution of Popularity Scores')\n",
    "plt.xlabel('Popularity')\n",
    "plt.ylabel('Frequency')\n",
    "plt.show()"
   ]
  },
  {
   "cell_type": "code",
   "execution_count": null,
   "id": "f610d693",
   "metadata": {},
   "outputs": [],
   "source": []
  }
 ],
 "metadata": {
  "kernelspec": {
   "display_name": "Python 3 (ipykernel)",
   "language": "python",
   "name": "python3"
  },
  "language_info": {
   "codemirror_mode": {
    "name": "ipython",
    "version": 3
   },
   "file_extension": ".py",
   "mimetype": "text/x-python",
   "name": "python",
   "nbconvert_exporter": "python",
   "pygments_lexer": "ipython3",
   "version": "3.11.5"
  }
 },
 "nbformat": 4,
 "nbformat_minor": 5
}
