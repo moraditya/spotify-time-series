{
 "cells": [
  {
   "cell_type": "code",
   "execution_count": 16,
   "id": "d3a9dc8f",
   "metadata": {},
   "outputs": [],
   "source": [
    "# import relevant libraries\n",
    "\n",
    "import pandas as pd\n",
    "import numpy as np\n",
    "import tensorflow as tf\n",
    "import keras\n",
    "import matplotlib.pyplot as plt\n",
    "import seaborn as sns\n",
    "from sklearn.model_selection import train_test_split\n",
    "from keras.models import Sequential\n",
    "from keras.layers import LSTM, Dense, Dropout\n",
    "from keras.optimizers import Adam\n",
    "from sklearn.preprocessing import MinMaxScaler"
   ]
  },
  {
   "cell_type": "code",
   "execution_count": 2,
   "id": "7a8ea908",
   "metadata": {},
   "outputs": [],
   "source": [
    "# import data \n",
    "\n",
    "df = pd.read_csv(r\"C:\\Users\\adityamxr\\Desktop\\Projects\\Spotify-time-series\\label_encoded_streams_df.csv\")"
   ]
  },
  {
   "cell_type": "code",
   "execution_count": 3,
   "id": "ab27a976",
   "metadata": {},
   "outputs": [
    {
     "data": {
      "text/html": [
       "<div>\n",
       "<style scoped>\n",
       "    .dataframe tbody tr th:only-of-type {\n",
       "        vertical-align: middle;\n",
       "    }\n",
       "\n",
       "    .dataframe tbody tr th {\n",
       "        vertical-align: top;\n",
       "    }\n",
       "\n",
       "    .dataframe thead th {\n",
       "        text-align: right;\n",
       "    }\n",
       "</style>\n",
       "<table border=\"1\" class=\"dataframe\">\n",
       "  <thead>\n",
       "    <tr style=\"text-align: right;\">\n",
       "      <th></th>\n",
       "      <th>acousticness</th>\n",
       "      <th>danceability</th>\n",
       "      <th>duration_ms</th>\n",
       "      <th>energy</th>\n",
       "      <th>explicit</th>\n",
       "      <th>instrumentalness</th>\n",
       "      <th>liveness</th>\n",
       "      <th>loudness</th>\n",
       "      <th>mode</th>\n",
       "      <th>popularity</th>\n",
       "      <th>speechiness</th>\n",
       "      <th>tempo</th>\n",
       "      <th>valence</th>\n",
       "      <th>year</th>\n",
       "      <th>cleaned_broad_genre</th>\n",
       "      <th>labelenc_genre</th>\n",
       "    </tr>\n",
       "  </thead>\n",
       "  <tbody>\n",
       "    <tr>\n",
       "      <th>0</th>\n",
       "      <td>0.995</td>\n",
       "      <td>0.708</td>\n",
       "      <td>158648</td>\n",
       "      <td>0.1950</td>\n",
       "      <td>0</td>\n",
       "      <td>0.563</td>\n",
       "      <td>0.1510</td>\n",
       "      <td>-12.428</td>\n",
       "      <td>1</td>\n",
       "      <td>0</td>\n",
       "      <td>0.0506</td>\n",
       "      <td>118.469</td>\n",
       "      <td>0.7790</td>\n",
       "      <td>1928</td>\n",
       "      <td>unknown</td>\n",
       "      <td>500</td>\n",
       "    </tr>\n",
       "    <tr>\n",
       "      <th>1</th>\n",
       "      <td>0.994</td>\n",
       "      <td>0.379</td>\n",
       "      <td>282133</td>\n",
       "      <td>0.0135</td>\n",
       "      <td>0</td>\n",
       "      <td>0.901</td>\n",
       "      <td>0.0763</td>\n",
       "      <td>-28.454</td>\n",
       "      <td>1</td>\n",
       "      <td>0</td>\n",
       "      <td>0.0462</td>\n",
       "      <td>83.972</td>\n",
       "      <td>0.0767</td>\n",
       "      <td>1928</td>\n",
       "      <td>early music</td>\n",
       "      <td>138</td>\n",
       "    </tr>\n",
       "    <tr>\n",
       "      <th>2</th>\n",
       "      <td>0.604</td>\n",
       "      <td>0.749</td>\n",
       "      <td>104300</td>\n",
       "      <td>0.2200</td>\n",
       "      <td>0</td>\n",
       "      <td>0.000</td>\n",
       "      <td>0.1190</td>\n",
       "      <td>-19.924</td>\n",
       "      <td>0</td>\n",
       "      <td>0</td>\n",
       "      <td>0.9290</td>\n",
       "      <td>107.177</td>\n",
       "      <td>0.8800</td>\n",
       "      <td>1928</td>\n",
       "      <td>epicore</td>\n",
       "      <td>149</td>\n",
       "    </tr>\n",
       "    <tr>\n",
       "      <th>3</th>\n",
       "      <td>0.995</td>\n",
       "      <td>0.781</td>\n",
       "      <td>180760</td>\n",
       "      <td>0.1300</td>\n",
       "      <td>0</td>\n",
       "      <td>0.887</td>\n",
       "      <td>0.1110</td>\n",
       "      <td>-14.734</td>\n",
       "      <td>0</td>\n",
       "      <td>0</td>\n",
       "      <td>0.0926</td>\n",
       "      <td>108.003</td>\n",
       "      <td>0.7200</td>\n",
       "      <td>1928</td>\n",
       "      <td>tango</td>\n",
       "      <td>477</td>\n",
       "    </tr>\n",
       "    <tr>\n",
       "      <th>4</th>\n",
       "      <td>0.990</td>\n",
       "      <td>0.210</td>\n",
       "      <td>687733</td>\n",
       "      <td>0.2040</td>\n",
       "      <td>0</td>\n",
       "      <td>0.908</td>\n",
       "      <td>0.0980</td>\n",
       "      <td>-16.829</td>\n",
       "      <td>1</td>\n",
       "      <td>1</td>\n",
       "      <td>0.0424</td>\n",
       "      <td>62.149</td>\n",
       "      <td>0.0693</td>\n",
       "      <td>1928</td>\n",
       "      <td>classical</td>\n",
       "      <td>96</td>\n",
       "    </tr>\n",
       "  </tbody>\n",
       "</table>\n",
       "</div>"
      ],
      "text/plain": [
       "   acousticness  danceability  duration_ms  energy  explicit  \\\n",
       "0         0.995         0.708       158648  0.1950         0   \n",
       "1         0.994         0.379       282133  0.0135         0   \n",
       "2         0.604         0.749       104300  0.2200         0   \n",
       "3         0.995         0.781       180760  0.1300         0   \n",
       "4         0.990         0.210       687733  0.2040         0   \n",
       "\n",
       "   instrumentalness  liveness  loudness  mode  popularity  speechiness  \\\n",
       "0             0.563    0.1510   -12.428     1           0       0.0506   \n",
       "1             0.901    0.0763   -28.454     1           0       0.0462   \n",
       "2             0.000    0.1190   -19.924     0           0       0.9290   \n",
       "3             0.887    0.1110   -14.734     0           0       0.0926   \n",
       "4             0.908    0.0980   -16.829     1           1       0.0424   \n",
       "\n",
       "     tempo  valence  year cleaned_broad_genre  labelenc_genre  \n",
       "0  118.469   0.7790  1928             unknown             500  \n",
       "1   83.972   0.0767  1928         early music             138  \n",
       "2  107.177   0.8800  1928             epicore             149  \n",
       "3  108.003   0.7200  1928               tango             477  \n",
       "4   62.149   0.0693  1928           classical              96  "
      ]
     },
     "execution_count": 3,
     "metadata": {},
     "output_type": "execute_result"
    }
   ],
   "source": [
    "# verify \n",
    "\n",
    "df.head()"
   ]
  },
  {
   "cell_type": "code",
   "execution_count": 4,
   "id": "de110079",
   "metadata": {},
   "outputs": [],
   "source": [
    "features_to_remove = ['danceability', 'duration_ms','energy', 'instrumentalness', 'liveness', 'mode','speechiness','tempo','valence','cleaned_broad_genre','popularity']\n",
    "\n",
    "df = df.drop(columns=features_to_remove)"
   ]
  },
  {
   "cell_type": "code",
   "execution_count": 5,
   "id": "eaff8907",
   "metadata": {},
   "outputs": [
    {
     "data": {
      "text/html": [
       "<div>\n",
       "<style scoped>\n",
       "    .dataframe tbody tr th:only-of-type {\n",
       "        vertical-align: middle;\n",
       "    }\n",
       "\n",
       "    .dataframe tbody tr th {\n",
       "        vertical-align: top;\n",
       "    }\n",
       "\n",
       "    .dataframe thead th {\n",
       "        text-align: right;\n",
       "    }\n",
       "</style>\n",
       "<table border=\"1\" class=\"dataframe\">\n",
       "  <thead>\n",
       "    <tr style=\"text-align: right;\">\n",
       "      <th></th>\n",
       "      <th>acousticness</th>\n",
       "      <th>explicit</th>\n",
       "      <th>loudness</th>\n",
       "      <th>year</th>\n",
       "      <th>labelenc_genre</th>\n",
       "    </tr>\n",
       "  </thead>\n",
       "  <tbody>\n",
       "    <tr>\n",
       "      <th>0</th>\n",
       "      <td>0.995</td>\n",
       "      <td>0</td>\n",
       "      <td>-12.428</td>\n",
       "      <td>1928</td>\n",
       "      <td>500</td>\n",
       "    </tr>\n",
       "    <tr>\n",
       "      <th>1</th>\n",
       "      <td>0.994</td>\n",
       "      <td>0</td>\n",
       "      <td>-28.454</td>\n",
       "      <td>1928</td>\n",
       "      <td>138</td>\n",
       "    </tr>\n",
       "    <tr>\n",
       "      <th>2</th>\n",
       "      <td>0.604</td>\n",
       "      <td>0</td>\n",
       "      <td>-19.924</td>\n",
       "      <td>1928</td>\n",
       "      <td>149</td>\n",
       "    </tr>\n",
       "    <tr>\n",
       "      <th>3</th>\n",
       "      <td>0.995</td>\n",
       "      <td>0</td>\n",
       "      <td>-14.734</td>\n",
       "      <td>1928</td>\n",
       "      <td>477</td>\n",
       "    </tr>\n",
       "    <tr>\n",
       "      <th>4</th>\n",
       "      <td>0.990</td>\n",
       "      <td>0</td>\n",
       "      <td>-16.829</td>\n",
       "      <td>1928</td>\n",
       "      <td>96</td>\n",
       "    </tr>\n",
       "  </tbody>\n",
       "</table>\n",
       "</div>"
      ],
      "text/plain": [
       "   acousticness  explicit  loudness  year  labelenc_genre\n",
       "0         0.995         0   -12.428  1928             500\n",
       "1         0.994         0   -28.454  1928             138\n",
       "2         0.604         0   -19.924  1928             149\n",
       "3         0.995         0   -14.734  1928             477\n",
       "4         0.990         0   -16.829  1928              96"
      ]
     },
     "execution_count": 5,
     "metadata": {},
     "output_type": "execute_result"
    }
   ],
   "source": [
    "df.head()"
   ]
  },
  {
   "cell_type": "code",
   "execution_count": 6,
   "id": "3230133a",
   "metadata": {},
   "outputs": [
    {
     "data": {
      "text/html": [
       "<div>\n",
       "<style scoped>\n",
       "    .dataframe tbody tr th:only-of-type {\n",
       "        vertical-align: middle;\n",
       "    }\n",
       "\n",
       "    .dataframe tbody tr th {\n",
       "        vertical-align: top;\n",
       "    }\n",
       "\n",
       "    .dataframe thead th {\n",
       "        text-align: right;\n",
       "    }\n",
       "</style>\n",
       "<table border=\"1\" class=\"dataframe\">\n",
       "  <thead>\n",
       "    <tr style=\"text-align: right;\">\n",
       "      <th></th>\n",
       "      <th>year</th>\n",
       "      <th>acousticness</th>\n",
       "      <th>explicit</th>\n",
       "      <th>loudness</th>\n",
       "      <th>labelenc_genre</th>\n",
       "    </tr>\n",
       "  </thead>\n",
       "  <tbody>\n",
       "    <tr>\n",
       "      <th>0</th>\n",
       "      <td>1921</td>\n",
       "      <td>0.895823</td>\n",
       "      <td>0.054688</td>\n",
       "      <td>-17.095437</td>\n",
       "      <td>342.226562</td>\n",
       "    </tr>\n",
       "    <tr>\n",
       "      <th>1</th>\n",
       "      <td>1922</td>\n",
       "      <td>0.939236</td>\n",
       "      <td>0.000000</td>\n",
       "      <td>-19.179958</td>\n",
       "      <td>418.625000</td>\n",
       "    </tr>\n",
       "    <tr>\n",
       "      <th>2</th>\n",
       "      <td>1923</td>\n",
       "      <td>0.976329</td>\n",
       "      <td>0.000000</td>\n",
       "      <td>-14.373882</td>\n",
       "      <td>304.301775</td>\n",
       "    </tr>\n",
       "    <tr>\n",
       "      <th>3</th>\n",
       "      <td>1924</td>\n",
       "      <td>0.935575</td>\n",
       "      <td>0.000000</td>\n",
       "      <td>-14.202304</td>\n",
       "      <td>350.063291</td>\n",
       "    </tr>\n",
       "    <tr>\n",
       "      <th>4</th>\n",
       "      <td>1925</td>\n",
       "      <td>0.965422</td>\n",
       "      <td>0.000000</td>\n",
       "      <td>-14.516707</td>\n",
       "      <td>354.342205</td>\n",
       "    </tr>\n",
       "  </tbody>\n",
       "</table>\n",
       "</div>"
      ],
      "text/plain": [
       "   year  acousticness  explicit   loudness  labelenc_genre\n",
       "0  1921      0.895823  0.054688 -17.095437      342.226562\n",
       "1  1922      0.939236  0.000000 -19.179958      418.625000\n",
       "2  1923      0.976329  0.000000 -14.373882      304.301775\n",
       "3  1924      0.935575  0.000000 -14.202304      350.063291\n",
       "4  1925      0.965422  0.000000 -14.516707      354.342205"
      ]
     },
     "execution_count": 6,
     "metadata": {},
     "output_type": "execute_result"
    }
   ],
   "source": [
    "# compute annual averages of the selected features\n",
    "annual_avg_top_4 = df[[\"acousticness\", \"explicit\", \"loudness\", \"labelenc_genre\", \"year\"]] \\\n",
    "    .groupby(\"year\").mean() \\\n",
    "    .sort_values(by=\"year\") \\\n",
    "    .reset_index()\n",
    "\n",
    "# verify aggregation\n",
    "annual_avg_top_4.head()"
   ]
  },
  {
   "cell_type": "code",
   "execution_count": 7,
   "id": "2c9d5e7d",
   "metadata": {},
   "outputs": [
    {
     "data": {
      "text/html": [
       "<div>\n",
       "<style scoped>\n",
       "    .dataframe tbody tr th:only-of-type {\n",
       "        vertical-align: middle;\n",
       "    }\n",
       "\n",
       "    .dataframe tbody tr th {\n",
       "        vertical-align: top;\n",
       "    }\n",
       "\n",
       "    .dataframe thead th {\n",
       "        text-align: right;\n",
       "    }\n",
       "</style>\n",
       "<table border=\"1\" class=\"dataframe\">\n",
       "  <thead>\n",
       "    <tr style=\"text-align: right;\">\n",
       "      <th></th>\n",
       "      <th>year</th>\n",
       "      <th>acousticness</th>\n",
       "      <th>explicit</th>\n",
       "      <th>loudness</th>\n",
       "      <th>labelenc_genre</th>\n",
       "    </tr>\n",
       "  </thead>\n",
       "  <tbody>\n",
       "    <tr>\n",
       "      <th>0</th>\n",
       "      <td>1921</td>\n",
       "      <td>0.895823</td>\n",
       "      <td>0.054688</td>\n",
       "      <td>-17.095437</td>\n",
       "      <td>342.226562</td>\n",
       "    </tr>\n",
       "    <tr>\n",
       "      <th>1</th>\n",
       "      <td>1922</td>\n",
       "      <td>0.939236</td>\n",
       "      <td>0.000000</td>\n",
       "      <td>-19.179958</td>\n",
       "      <td>418.625000</td>\n",
       "    </tr>\n",
       "    <tr>\n",
       "      <th>2</th>\n",
       "      <td>1923</td>\n",
       "      <td>0.976329</td>\n",
       "      <td>0.000000</td>\n",
       "      <td>-14.373882</td>\n",
       "      <td>304.301775</td>\n",
       "    </tr>\n",
       "    <tr>\n",
       "      <th>3</th>\n",
       "      <td>1924</td>\n",
       "      <td>0.935575</td>\n",
       "      <td>0.000000</td>\n",
       "      <td>-14.202304</td>\n",
       "      <td>350.063291</td>\n",
       "    </tr>\n",
       "    <tr>\n",
       "      <th>4</th>\n",
       "      <td>1925</td>\n",
       "      <td>0.965422</td>\n",
       "      <td>0.000000</td>\n",
       "      <td>-14.516707</td>\n",
       "      <td>354.342205</td>\n",
       "    </tr>\n",
       "  </tbody>\n",
       "</table>\n",
       "</div>"
      ],
      "text/plain": [
       "   year  acousticness  explicit   loudness  labelenc_genre\n",
       "0  1921      0.895823  0.054688 -17.095437      342.226562\n",
       "1  1922      0.939236  0.000000 -19.179958      418.625000\n",
       "2  1923      0.976329  0.000000 -14.373882      304.301775\n",
       "3  1924      0.935575  0.000000 -14.202304      350.063291\n",
       "4  1925      0.965422  0.000000 -14.516707      354.342205"
      ]
     },
     "execution_count": 7,
     "metadata": {},
     "output_type": "execute_result"
    }
   ],
   "source": [
    "# create copy of original df\n",
    "df2 = annual_avg_top_4.copy()\n",
    "df2.head()"
   ]
  },
  {
   "cell_type": "code",
   "execution_count": 8,
   "id": "246060c4",
   "metadata": {},
   "outputs": [],
   "source": [
    "df2.year=pd.to_datetime(df2.year, format='%Y')"
   ]
  },
  {
   "cell_type": "code",
   "execution_count": 9,
   "id": "a0fc3f7f",
   "metadata": {},
   "outputs": [
    {
     "name": "stdout",
     "output_type": "stream",
     "text": [
      "<class 'pandas.core.frame.DataFrame'>\n",
      "RangeIndex: 100 entries, 0 to 99\n",
      "Data columns (total 5 columns):\n",
      " #   Column          Non-Null Count  Dtype         \n",
      "---  ------          --------------  -----         \n",
      " 0   year            100 non-null    datetime64[ns]\n",
      " 1   acousticness    100 non-null    float64       \n",
      " 2   explicit        100 non-null    float64       \n",
      " 3   loudness        100 non-null    float64       \n",
      " 4   labelenc_genre  100 non-null    float64       \n",
      "dtypes: datetime64[ns](1), float64(4)\n",
      "memory usage: 4.0 KB\n"
     ]
    }
   ],
   "source": [
    "df2.info()"
   ]
  },
  {
   "cell_type": "code",
   "execution_count": 10,
   "id": "bef90f98",
   "metadata": {},
   "outputs": [
    {
     "data": {
      "text/html": [
       "<div>\n",
       "<style scoped>\n",
       "    .dataframe tbody tr th:only-of-type {\n",
       "        vertical-align: middle;\n",
       "    }\n",
       "\n",
       "    .dataframe tbody tr th {\n",
       "        vertical-align: top;\n",
       "    }\n",
       "\n",
       "    .dataframe thead th {\n",
       "        text-align: right;\n",
       "    }\n",
       "</style>\n",
       "<table border=\"1\" class=\"dataframe\">\n",
       "  <thead>\n",
       "    <tr style=\"text-align: right;\">\n",
       "      <th></th>\n",
       "      <th>acousticness</th>\n",
       "      <th>explicit</th>\n",
       "      <th>loudness</th>\n",
       "      <th>labelenc_genre</th>\n",
       "    </tr>\n",
       "    <tr>\n",
       "      <th>year</th>\n",
       "      <th></th>\n",
       "      <th></th>\n",
       "      <th></th>\n",
       "      <th></th>\n",
       "    </tr>\n",
       "  </thead>\n",
       "  <tbody>\n",
       "    <tr>\n",
       "      <th>1921-01-01</th>\n",
       "      <td>0.895823</td>\n",
       "      <td>0.054688</td>\n",
       "      <td>-17.095437</td>\n",
       "      <td>342.226562</td>\n",
       "    </tr>\n",
       "    <tr>\n",
       "      <th>1922-01-01</th>\n",
       "      <td>0.939236</td>\n",
       "      <td>0.000000</td>\n",
       "      <td>-19.179958</td>\n",
       "      <td>418.625000</td>\n",
       "    </tr>\n",
       "    <tr>\n",
       "      <th>1923-01-01</th>\n",
       "      <td>0.976329</td>\n",
       "      <td>0.000000</td>\n",
       "      <td>-14.373882</td>\n",
       "      <td>304.301775</td>\n",
       "    </tr>\n",
       "    <tr>\n",
       "      <th>1924-01-01</th>\n",
       "      <td>0.935575</td>\n",
       "      <td>0.000000</td>\n",
       "      <td>-14.202304</td>\n",
       "      <td>350.063291</td>\n",
       "    </tr>\n",
       "    <tr>\n",
       "      <th>1925-01-01</th>\n",
       "      <td>0.965422</td>\n",
       "      <td>0.000000</td>\n",
       "      <td>-14.516707</td>\n",
       "      <td>354.342205</td>\n",
       "    </tr>\n",
       "  </tbody>\n",
       "</table>\n",
       "</div>"
      ],
      "text/plain": [
       "            acousticness  explicit   loudness  labelenc_genre\n",
       "year                                                         \n",
       "1921-01-01      0.895823  0.054688 -17.095437      342.226562\n",
       "1922-01-01      0.939236  0.000000 -19.179958      418.625000\n",
       "1923-01-01      0.976329  0.000000 -14.373882      304.301775\n",
       "1924-01-01      0.935575  0.000000 -14.202304      350.063291\n",
       "1925-01-01      0.965422  0.000000 -14.516707      354.342205"
      ]
     },
     "execution_count": 10,
     "metadata": {},
     "output_type": "execute_result"
    }
   ],
   "source": [
    "df2.set_index('year', inplace=True)\n",
    "df2.head()"
   ]
  },
  {
   "cell_type": "code",
   "execution_count": 11,
   "id": "bdbdbc3a",
   "metadata": {},
   "outputs": [
    {
     "name": "stdout",
     "output_type": "stream",
     "text": [
      "            acousticness\n",
      "year                    \n",
      "1921-01-01      0.895823\n",
      "1922-01-01      0.939236\n",
      "1923-01-01      0.976329\n",
      "1924-01-01      0.935575\n",
      "1925-01-01      0.965422\n",
      "            explicit\n",
      "year                \n",
      "1921-01-01  0.054688\n",
      "1922-01-01  0.000000\n",
      "1923-01-01  0.000000\n",
      "1924-01-01  0.000000\n",
      "1925-01-01  0.000000\n",
      "             loudness\n",
      "year                 \n",
      "1921-01-01 -17.095437\n",
      "1922-01-01 -19.179958\n",
      "1923-01-01 -14.373882\n",
      "1924-01-01 -14.202304\n",
      "1925-01-01 -14.516707\n",
      "            labelenc_genre\n",
      "year                      \n",
      "1921-01-01      342.226562\n",
      "1922-01-01      418.625000\n",
      "1923-01-01      304.301775\n",
      "1924-01-01      350.063291\n",
      "1925-01-01      354.342205\n"
     ]
    }
   ],
   "source": [
    "acousticness_df = df2[['acousticness']].copy()\n",
    "explicit_df = df2[['explicit']].copy()\n",
    "loudness_df = df2[['loudness']].copy()\n",
    "labelenc_genre_df = df2[['labelenc_genre']].copy()\n",
    "\n",
    "# verify \n",
    "print(acousticness_df.head())\n",
    "print(explicit_df.head())\n",
    "print(loudness_df.head())\n",
    "print(labelenc_genre_df.head())"
   ]
  },
  {
   "cell_type": "code",
   "execution_count": 12,
   "id": "6acbc2d3",
   "metadata": {},
   "outputs": [
    {
     "name": "stdout",
     "output_type": "stream",
     "text": [
      "            acousticness\n",
      "year                    \n",
      "1921-01-01      0.895823\n",
      "1922-01-01      0.939236\n",
      "1923-01-01      0.976329\n",
      "1924-01-01      0.935575\n",
      "1925-01-01      0.965422\n",
      "            explicit\n",
      "year                \n",
      "1921-01-01  0.054688\n",
      "1922-01-01  0.000000\n",
      "1923-01-01  0.000000\n",
      "1924-01-01  0.000000\n",
      "1925-01-01  0.000000\n",
      "             loudness\n",
      "year                 \n",
      "1921-01-01 -17.095437\n",
      "1922-01-01 -19.179958\n",
      "1923-01-01 -14.373882\n",
      "1924-01-01 -14.202304\n",
      "1925-01-01 -14.516707\n",
      "            labelenc_genre\n",
      "year                      \n",
      "1921-01-01      342.226562\n",
      "1922-01-01      418.625000\n",
      "1923-01-01      304.301775\n",
      "1924-01-01      350.063291\n",
      "1925-01-01      354.342205\n"
     ]
    }
   ],
   "source": [
    "acousticness_df.sort_index(inplace=True)\n",
    "explicit_df.sort_index(inplace=True)\n",
    "loudness_df.sort_index(inplace=True)\n",
    "labelenc_genre_df.sort_index(inplace=True)\n",
    "\n",
    "# verify sorting\n",
    "print(acousticness_df.head())\n",
    "print(explicit_df.head())\n",
    "print(loudness_df.head())\n",
    "print(labelenc_genre_df.head())"
   ]
  },
  {
   "cell_type": "markdown",
   "id": "b10fd7ee",
   "metadata": {},
   "source": [
    "## Acousticness LSTM"
   ]
  },
  {
   "cell_type": "code",
   "execution_count": 13,
   "id": "d73a42ee",
   "metadata": {},
   "outputs": [
    {
     "data": {
      "image/png": "[encoded data removed]",
      "text/plain": [
       "<Figure size 640x480 with 1 Axes>"
      ]
     },
     "metadata": {},
     "output_type": "display_data"
    }
   ],
   "source": [
    "# plot acousticness across time\n",
    "\n",
    "sns.lineplot(x=acousticness_df.index, y = 'acousticness', data = acousticness_df);"
   ]
  },
  {
   "cell_type": "markdown",
   "id": "1335a01b",
   "metadata": {},
   "source": [
    "### The point of resampling to monthly intervals in this case is to provide the LSTM model with smoother, regular time series data for better learning of long-term trends"
   ]
  },
  {
   "cell_type": "code",
   "execution_count": 14,
   "id": "f990e9ab",
   "metadata": {},
   "outputs": [
    {
     "data": {
      "text/plain": [
       "<Axes: xlabel='year', ylabel='acousticness'>"
      ]
     },
     "execution_count": 14,
     "metadata": {},
     "output_type": "execute_result"
    },
    {
     "data": {
      "image/png": "[encoded data removed]",
      "text/plain": [
       "<Figure size 640x480 with 1 Axes>"
      ]
     },
     "metadata": {},
     "output_type": "display_data"
    }
   ],
   "source": [
    "# resample acousticness_df by month\n",
    "\n",
    "acousticness_df_mon = acousticness_df.resample('M').sum()\n",
    "\n",
    "# plot\n",
    "sns.lineplot(x = acousticness_df_mon.index, y='acousticness', data = acousticness_df_mon)"
   ]
  },
  {
   "cell_type": "code",
   "execution_count": 17,
   "id": "491d5ee4",
   "metadata": {},
   "outputs": [],
   "source": [
    "# Initialize MinMaxScaler for normalization\n",
    "scaler = MinMaxScaler()\n",
    "\n",
    "# Normalize all relevant dataframes individually\n",
    "acousticness_df['acousticness_scaled'] = scaler.fit_transform(acousticness_df[['acousticness']])"
   ]
  },
  {
   "cell_type": "code",
   "execution_count": 18,
   "id": "9c58b542",
   "metadata": {},
   "outputs": [
    {
     "data": {
      "image/png": "[encoded data removed]",
      "text/plain": [
       "<Figure size 640x480 with 1 Axes>"
      ]
     },
     "metadata": {},
     "output_type": "display_data"
    }
   ],
   "source": [
    "# Plot normalized data (after normalization)\n",
    "sns.lineplot(x=acousticness_df.index, y='acousticness_scaled', data=acousticness_df)\n",
    "plt.title('Acousticness (After Normalization)')\n",
    "plt.show()"
   ]
  },
  {
   "cell_type": "code",
   "execution_count": 19,
   "id": "14fa9648",
   "metadata": {},
   "outputs": [],
   "source": [
    "# Create a function to build sequences from the normalized data\n",
    "def create_sequences(X, y, time_steps=1):\n",
    "    Xs, ys = [], []\n",
    "    for i in range(len(X) - time_steps):\n",
    "        v = X.iloc[i: (i + time_steps)].to_numpy()\n",
    "        Xs.append(v)\n",
    "        ys.append(y.iloc[i + time_steps])\n",
    "    return np.array(Xs), np.array(ys)"
   ]
  },
  {
   "cell_type": "code",
   "execution_count": null,
   "id": "5eae6b0f",
   "metadata": {},
   "outputs": [],
   "source": []
  }
 ],
 "metadata": {
  "kernelspec": {
   "display_name": "Python 3 (ipykernel)",
   "language": "python",
   "name": "python3"
  },
  "language_info": {
   "codemirror_mode": {
    "name": "ipython",
    "version": 3
   },
   "file_extension": ".py",
   "mimetype": "text/x-python",
   "name": "python",
   "nbconvert_exporter": "python",
   "pygments_lexer": "ipython3",
   "version": "3.10.9"
  }
 },
 "nbformat": 4,
 "nbformat_minor": 5
}
